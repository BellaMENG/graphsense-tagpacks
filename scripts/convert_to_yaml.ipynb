{
 "cells": [
  {
   "cell_type": "code",
   "execution_count": 6,
   "metadata": {
    "ExecuteTime": {
     "end_time": "2019-07-10T08:29:54.979220Z",
     "start_time": "2019-07-10T08:29:54.971617Z"
    }
   },
   "outputs": [],
   "source": [
    "# create ransomware tagpack \n",
    "import yaml\n",
    "import json\n",
    "import csv\n",
    "from time import time, mktime\n",
    "from datetime import datetime\n",
    "from os import sys, listdir"
   ]
  },
  {
   "cell_type": "markdown",
   "metadata": {},
   "source": [
    "# Convert ransomware dataset\n",
    "Specify the path of the seed addresses with `dataset_path`"
   ]
  },
  {
   "cell_type": "code",
   "execution_count": 35,
   "metadata": {
    "ExecuteTime": {
     "end_time": "2019-06-24T14:14:16.402014Z",
     "start_time": "2019-06-24T14:14:15.192886Z"
    }
   },
   "outputs": [],
   "source": [
    "dataset_path = '../../ransomware_dataset/blockchain/seed_addresses.csv'\n",
    "data = {\n",
    "    'title' : 'Ransomware Tagpack',\n",
    "    'creator' : 'Masarah Paquet-Clouston and Bernhard Haslhofer',\n",
    "    'currency' : 'BTC',\n",
    "    'description' : 'Ransomware addresses' ,\n",
    "    'lastmod' : datetime.fromtimestamp((int(time()))).date(),\n",
    "    'source' : 'https://zenodo.org/record/1238041#.XLQwopMzZR4',\n",
    "    'category' : 'Ransomware',\n",
    "    'tags': []\n",
    "}\n",
    "\n",
    "with open(dataset_path) as fp:\n",
    "    lines = csv.reader(fp, delimiter=',')\n",
    "    skip = True\n",
    "    for line in lines:\n",
    "        if skip:\n",
    "            skip = False\n",
    "            continue\n",
    "        d = {\n",
    "            'address': line[0],\n",
    "            'label': line[1]\n",
    "        }\n",
    "        data['tags'].append(d)\n",
    "\n",
    "\n",
    "with open('../packs/ransomware.yaml', 'w') as outfile:\n",
    "    yaml.dump(data, outfile, default_flow_style=False)"
   ]
  },
  {
   "cell_type": "markdown",
   "metadata": {},
   "source": [
    "# Convert hacks dataset\n",
    "Specify the path of the seed addresses with `dataset_path`"
   ]
  },
  {
   "cell_type": "code",
   "execution_count": 239,
   "metadata": {
    "ExecuteTime": {
     "end_time": "2019-07-15T14:26:18.766452Z",
     "start_time": "2019-07-15T14:26:18.562327Z"
    }
   },
   "outputs": [],
   "source": [
    "dataset_path = '../packs/hacks.csv'\n",
    "data = {\n",
    "    'title' : 'Hacks Tagpack',\n",
    "    'creator' : 'Graphsense Team',\n",
    "    'currency' : 'BTC',\n",
    "    'description' : 'Addresses related to hacked Exchanges and hackers' ,\n",
    "    'lastmod' : datetime.fromtimestamp((int(time()))).date(),\n",
    "    'tags': []\n",
    "}\n",
    "\n",
    "with open(dataset_path) as fp:\n",
    "    lines = csv.reader(fp, delimiter=',')\n",
    "    skip = True\n",
    "    for line in lines:\n",
    "        if skip:\n",
    "            skip = False\n",
    "            continue\n",
    "        d = {\n",
    "            'address': line[0],\n",
    "            'label': line[1],\n",
    "            'category': line[2],\n",
    "            'source': line[3]\n",
    "        }\n",
    "        data['tags'].append(d)\n",
    "\n",
    "\n",
    "with open('../packs/hacks.yaml', 'w') as outfile:\n",
    "    yaml.dump(data, outfile, default_flow_style=False)"
   ]
  },
  {
   "cell_type": "markdown",
   "metadata": {},
   "source": [
    "# Convert Ponzi dataset\n",
    "Specify the path of the seed addresses with `dataset_path`"
   ]
  },
  {
   "cell_type": "code",
   "execution_count": 195,
   "metadata": {
    "ExecuteTime": {
     "end_time": "2019-07-11T13:51:48.951514Z",
     "start_time": "2019-07-11T13:51:48.929957Z"
    }
   },
   "outputs": [],
   "source": [
    "dataset_path = '../ponzi_scheme.csv'\n",
    "data = {\n",
    "    'title' : 'Ponzi Scheme Tagpack',\n",
    "    'creator' : 'Matteo Romiti',\n",
    "    'currency' : 'BTC',\n",
    "    'description' : 'Addresses related to Ponzi Schemes' ,\n",
    "    'lastmod' : datetime.fromtimestamp((int(time()))).date(),\n",
    "    'source' : 'https://arxiv.org/abs/1803.00646',\n",
    "    'category' : 'Ponzi Scheme',\n",
    "    'tags': []\n",
    "}\n",
    "\n",
    "with open(dataset_path) as fp:\n",
    "    lines = csv.reader(fp, delimiter=',')\n",
    "    skip = True\n",
    "    for line in lines:\n",
    "        if skip:\n",
    "            skip = False\n",
    "            continue\n",
    "        d = {\n",
    "            'address': line[1],\n",
    "            'label': line[0]\n",
    "        }\n",
    "        data['tags'].append(d)\n",
    "\n",
    "\n",
    "with open('../packs/ponzi_scheme.yaml', 'w') as outfile:\n",
    "    yaml.dump(data, outfile, default_flow_style=False)"
   ]
  },
  {
   "cell_type": "markdown",
   "metadata": {},
   "source": [
    "# Convert sextortion dataset\n",
    "Specify the path of the seed addresses with `dataset_path`"
   ]
  },
  {
   "cell_type": "code",
   "execution_count": 4,
   "metadata": {
    "ExecuteTime": {
     "end_time": "2019-07-10T08:26:08.442534Z",
     "start_time": "2019-07-10T08:26:03.213323Z"
    }
   },
   "outputs": [],
   "source": [
    "dataset_path = '../../talos_addresses.json'\n",
    "data = {\n",
    "    'title' : 'Talos Sextortion Tagpack',\n",
    "    'creator' : 'Talos Cisco',\n",
    "    'currency' : 'BTC',\n",
    "    'label': 'Sextortion Talos',\n",
    "    'description' : 'Sextortion addresses' ,\n",
    "    'lastmod' : datetime.fromtimestamp((int(time()))).date(),\n",
    "    'source' : 'https://blog.talosintelligence.com/2018/10/anatomy-of-sextortion-scam.html',\n",
    "    'category' : 'Sextortion',\n",
    "    'tags': []\n",
    "}\n",
    "\n",
    "with open(dataset_path) as fp:\n",
    "    talos_addresses = json.load(fp)\n",
    "\n",
    "for addr in talos_addresses:\n",
    "    d = {\n",
    "        'address': addr,\n",
    "    }\n",
    "    data['tags'].append(d)\n",
    "    \n",
    "\n",
    "with open('../packs/sextortion_talos.yaml', 'w') as outfile:\n",
    "    yaml.dump(data, outfile, default_flow_style=False)"
   ]
  }
 ],
 "metadata": {
  "kernelspec": {
   "display_name": "Python 3",
   "language": "python",
   "name": "python3"
  },
  "language_info": {
   "codemirror_mode": {
    "name": "ipython",
    "version": 3
   },
   "file_extension": ".py",
   "mimetype": "text/x-python",
   "name": "python",
   "nbconvert_exporter": "python",
   "pygments_lexer": "ipython3",
   "version": "3.6.8"
  }
 },
 "nbformat": 4,
 "nbformat_minor": 2
}
