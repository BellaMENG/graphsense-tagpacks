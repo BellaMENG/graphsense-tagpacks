{
 "cells": [
  {
   "cell_type": "markdown",
   "metadata": {},
   "source": [
    "# Purpose of this notebook\n",
    "We have `yaml` files retrieved from different sources and these files contain different names for the same entity. Ccategories need to be checked as well.\n",
    "\n",
    "This notebook creates a mapping from labels to unique labels (`label_uniqueLabel.json`) and a mapping from unique labels to the right categories (`uniqueLabel_category.json`).\n",
    "\n",
    "Every time a yaml file is created or added to the list, its labels must be mapped to unique labels and its categories to the right categories using these two `json` files.\n",
    "\n",
    "`config.yaml` is also updated with the new list of categories."
   ]
  },
  {
   "cell_type": "markdown",
   "metadata": {},
   "source": [
    "# Step \\#1. Create a file mapping entity label to its category (skip blockchain.info)"
   ]
  },
  {
   "cell_type": "code",
   "execution_count": 5,
   "metadata": {
    "ExecuteTime": {
     "end_time": "2019-07-11T12:21:13.507861Z",
     "start_time": "2019-07-11T12:21:13.505060Z"
    }
   },
   "outputs": [],
   "source": [
    "import yaml\n",
    "import json\n",
    "from os import listdir"
   ]
  },
  {
   "cell_type": "code",
   "execution_count": 35,
   "metadata": {
    "ExecuteTime": {
     "end_time": "2019-07-11T12:39:48.582042Z",
     "start_time": "2019-07-11T12:39:27.463918Z"
    }
   },
   "outputs": [
    {
     "name": "stdout",
     "output_type": "stream",
     "text": [
      "walletexplorer.yaml\n",
      "richest_addresses.yaml\n",
      "ransomware.yaml\n",
      "binance.yaml\n",
      "binance_hack.yaml\n",
      "sextortion_talos.yaml\n",
      "miners.yaml\n",
      "demo.yaml\n"
     ]
    }
   ],
   "source": [
    "# for each yaml file\n",
    "# get all the <label,category> pairs\n",
    "label_category = dict() # initial (dirty) label-category mapping\n",
    "packs_folder = '../packs/'\n",
    "for file in listdir(packs_folder):\n",
    "    if file != 'blockchaininfo.yaml': # there are no categories there\n",
    "        print(file)\n",
    "        with open(packs_folder + file) as fp:\n",
    "            data = yaml.safe_load(fp)\n",
    "        for el in data['tags']:\n",
    "            if 'category' in el and 'label' in el:\n",
    "                label_category[el['label'].lower()] = el['category']\n",
    "            elif 'category' not in el and 'label' in el:\n",
    "                label_category[el['label'].lower()] = data['category']\n",
    "            elif 'category' in el and 'label' not in el:\n",
    "                label_category[data['label'].lower()] = el['category']\n",
    "            elif 'category' in data and 'label' in data:\n",
    "                label_category[data['label'].lower()] = data['category']\n"
   ]
  },
  {
   "cell_type": "markdown",
   "metadata": {},
   "source": [
    "## Step #1a. Check uniqueness of labels\n"
   ]
  },
  {
   "cell_type": "code",
   "execution_count": 36,
   "metadata": {
    "ExecuteTime": {
     "end_time": "2019-07-11T12:39:48.589235Z",
     "start_time": "2019-07-11T12:39:48.584834Z"
    }
   },
   "outputs": [],
   "source": [
    "sorted_labels = [e.lower() for e in label_category.keys()]\n",
    "sorted_labels.sort()"
   ]
  },
  {
   "cell_type": "code",
   "execution_count": 37,
   "metadata": {
    "ExecuteTime": {
     "end_time": "2019-07-11T12:39:48.667221Z",
     "start_time": "2019-07-11T12:39:48.591622Z"
    }
   },
   "outputs": [
    {
     "data": {
      "text/plain": [
       "['10xbitco.in',\n",
       " '175btc',\n",
       " '1coin.com',\n",
       " '1hash',\n",
       " '21 inc.',\n",
       " '50btc',\n",
       " '50btc.com',\n",
       " '50btc.com-old',\n",
       " '50btc.com-old2',\n",
       " '50btc.com-old3']"
      ]
     },
     "execution_count": 37,
     "metadata": {},
     "output_type": "execute_result"
    }
   ],
   "source": [
    "sorted_labels[:10]"
   ]
  },
  {
   "cell_type": "markdown",
   "metadata": {},
   "source": [
    "## Step #1b. Create unique labels"
   ]
  },
  {
   "cell_type": "code",
   "execution_count": 38,
   "metadata": {
    "ExecuteTime": {
     "end_time": "2019-07-11T12:39:48.685682Z",
     "start_time": "2019-07-11T12:39:48.675534Z"
    }
   },
   "outputs": [],
   "source": [
    "# merge all labels with same root (these were manually selected by looking at all the (sorted) dirty labels above)\n",
    "labels_roots = ['50btc', 'alphabaymarket', 'antpool', 'banx.io', 'betcoin.ag', 'bitaces', 'bitcoin-24.com', 'bitcoin.de', 'bitcoinica.com', 'bitcoinvideocasino.com', 'bitfinex', 'bitfury', 'bitminter', 'bitpay.com', 'bitstamp', 'bittrex', 'btc-e.com', 'btcc.com', 'btcjam.com', 'bter.com', 'btradeaustralia.com', 'c-cex.com', 'campbx.com', 'chainroll.com', 'cloudhashing', 'coinapult.com', 'coinroyale.com', 'cryptonator', 'cryptonit.net', 'cryptopay.me', 'cryptsy.com', 'deepbit', 'dgex.com', 'dmalocker', 'eclipsemc', 'eligius', 'foxbit.com.br', 'gatecoin.com', 'helixmixer', 'hitbtc.com', 'huobi.com', 'just-dice.com', 'kano', 'kncminer', 'kraken', 'localbitcoins.com', 'luckyb.it', 'okcoin.com', 'polmine', 'poloniex', 'primedice.com', 'satoshi-karoshi.com', 'satoshidice.com', 'securevpn.to', 'simplecoin.cz', 'slushpool', 'simplecoin', 'therocktrading.com', 'xapo']"
   ]
  },
  {
   "cell_type": "code",
   "execution_count": 39,
   "metadata": {
    "ExecuteTime": {
     "end_time": "2019-07-11T12:39:48.706631Z",
     "start_time": "2019-07-11T12:39:48.690417Z"
    }
   },
   "outputs": [],
   "source": [
    "# map each label to unique label\n",
    "label_uniqueLabel = dict() # map a label to a unique one\n",
    "# founded manually\n",
    "label_uniqueLabel['btccpool'] = 'btcc pool'\n",
    "label_uniqueLabel['btc guild'] = 'btcguild.com'\n",
    "label_uniqueLabel['globev2'] = 'globe'\n",
    "label_uniqueLabel['globev3'] = 'globe'\n",
    "label_uniqueLabel['telco214'] = 'telco 214'\n",
    "for label in sorted_labels: # all labels available, similars included\n",
    "    if label not in label_uniqueLabel:\n",
    "        root_found = False\n",
    "        for root in labels_roots: # look for a possible root\n",
    "            if label.startswith(root): # if found, use it and go to next label\n",
    "                label_uniqueLabel[label] = root\n",
    "                root_found = True\n",
    "                break\n",
    "        if not root_found:\n",
    "            label_uniqueLabel[label] = label"
   ]
  },
  {
   "cell_type": "code",
   "execution_count": 40,
   "metadata": {
    "ExecuteTime": {
     "end_time": "2019-07-11T12:39:48.714546Z",
     "start_time": "2019-07-11T12:39:48.709418Z"
    }
   },
   "outputs": [],
   "source": [
    "# create mapping unique_label to category\n",
    "uniqueLabel_category = dict()"
   ]
  },
  {
   "cell_type": "code",
   "execution_count": 41,
   "metadata": {
    "ExecuteTime": {
     "end_time": "2019-07-11T12:39:48.723876Z",
     "start_time": "2019-07-11T12:39:48.719000Z"
    }
   },
   "outputs": [],
   "source": [
    "# check if by using different versions of the same label, one entity is mapped into different categories\n",
    "# create a set of categories for each unique label, then check its len\n",
    "for label in label_category: # all labels, similars included\n",
    "    unique_label = label_uniqueLabel[label]\n",
    "    if unique_label not in uniqueLabel_category:\n",
    "        uniqueLabel_category[unique_label] = set()\n",
    "    uniqueLabel_category[unique_label].add(label_category[label])"
   ]
  },
  {
   "cell_type": "markdown",
   "metadata": {},
   "source": [
    "# Step \\#2. Manual entity check and cleaning"
   ]
  },
  {
   "cell_type": "code",
   "execution_count": 42,
   "metadata": {
    "ExecuteTime": {
     "end_time": "2019-07-11T12:39:52.523423Z",
     "start_time": "2019-07-11T12:39:52.509622Z"
    }
   },
   "outputs": [
    {
     "name": "stdout",
     "output_type": "stream",
     "text": [
      "{'Old/historic', 'Miner'} cloudhashing\n",
      "{'Old/historic', 'Miner'} polmine\n",
      "{'Old/historic', 'Miner'} 50btc\n",
      "{'Old/historic', 'Miner'} btcguild.com\n",
      "{'Old/historic', 'Miner'} deepbit\n",
      "{'Services/others', 'Exchange'} xapo\n"
     ]
    }
   ],
   "source": [
    "# check len of each set of categories for each unique label\n",
    "# in len == 1: use that category, else manual fix\n",
    "for unique_label in uniqueLabel_category:\n",
    "    if len(uniqueLabel_category[unique_label]) > 1:\n",
    "        print(uniqueLabel_category[unique_label], unique_label)\n",
    "    else:\n",
    "        uniqueLabel_category[unique_label] = list(uniqueLabel_category[unique_label])[0]"
   ]
  },
  {
   "cell_type": "code",
   "execution_count": 43,
   "metadata": {
    "ExecuteTime": {
     "end_time": "2019-07-11T12:39:53.485362Z",
     "start_time": "2019-07-11T12:39:53.480487Z"
    }
   },
   "outputs": [],
   "source": [
    "# Manual labeling\n",
    "uniqueLabel_category['cloudhashing'] = 'Miner'\n",
    "uniqueLabel_category['btcguild.com'] = 'Miner'\n",
    "uniqueLabel_category['polmine'] = 'Miner'\n",
    "uniqueLabel_category['50btc'] = 'Miner'\n",
    "uniqueLabel_category['deepbit'] = 'Miner'\n",
    "uniqueLabel_category['xapo'] = 'Exchange'"
   ]
  },
  {
   "cell_type": "code",
   "execution_count": 44,
   "metadata": {
    "ExecuteTime": {
     "end_time": "2019-07-11T12:39:54.335592Z",
     "start_time": "2019-07-11T12:39:54.314107Z"
    },
    "scrolled": true
   },
   "outputs": [
    {
     "name": "stdout",
     "output_type": "stream",
     "text": [
      "minerscenter.com\n",
      "coinhub.cz\n",
      "btceur.eu\n",
      "smenarnabitcoin.cz\n",
      "brawker.com\n",
      "suzukidice.com\n",
      "everydice.com\n",
      "cryptobounty.com\n",
      "europex.eu\n",
      "birwo.com-old\n",
      "cryptomine.io\n",
      "cryptcominer.com\n",
      "10xbitco.in\n",
      "mpex.co\n",
      "btcexchange.ro\n",
      "dgex.com\n",
      "bitcoinwebank.com\n",
      "ponzicoin.co\n",
      "dadice.com\n",
      "babylonmarket\n",
      "coin-sweeper.com\n",
      "bitcash.cz\n",
      "admiralcoin.com\n",
      "just-dice.com\n",
      "btct.com\n",
      "coinmkt.com\n",
      "dicebitco.in\n",
      "ice-dice.com\n",
      "btcst.com-pirateat40\n",
      "bitoomba.com\n",
      "dispenser.tf\n",
      "pocketrocketscasino.eu\n",
      "playt.in\n",
      "comkort.com\n",
      "betsofbitco.in\n",
      "masterxchange.com\n",
      "bitcoinica.com\n",
      "coinvault\n",
      "chainroll.com\n",
      "cannabisroadmarket\n",
      "mybitcoin.com\n",
      "bitmillions.com\n",
      "allcrypt.com\n",
      "bityes.com\n",
      "dagensia.eu\n",
      "actioncrypto.com\n",
      "bitelfin.com\n",
      "vaultofsatoshi.com\n",
      "crypto-trade.com\n",
      "coin.mx\n",
      "leancy.com\n",
      "cryptorush.in\n",
      "bitmit.net\n",
      "bitcoin-roulette.com\n",
      "betcoins.net\n",
      "bitcoin-24.com\n",
      "allcoin.com\n",
      "bitaces\n",
      "inputs.io\n",
      "pinballcoin.com\n",
      "justcoin.com\n",
      "blueskymarketplace\n",
      "coin-swap.net\n",
      "blackbankmarket\n",
      "diceoncrack.com\n",
      "sheepmarketplace\n",
      "mcxnow.com\n",
      "btcdice.com\n",
      "middleearthmarketplace\n",
      "pandoraopenmarket\n",
      "sealswithclubs.eu\n",
      "mintpal.com\n",
      "abraxasmarket\n",
      "updown.bt\n",
      "instawallet.org\n",
      "evolutionmarket\n",
      "silkroad2market\n",
      "silkroadmarketplace\n",
      "betcoindice.tm\n",
      "agoramarket\n"
     ]
    }
   ],
   "source": [
    "# some entities fall into the \"old\" or \"other\" categories, but we want to know what they were doing \n",
    "# so google each of them and understand what they actually are/were doing\n",
    "for ul in uniqueLabel_category:\n",
    "    if uniqueLabel_category[ul] == 'Old/historic':\n",
    "        print(ul)"
   ]
  },
  {
   "cell_type": "code",
   "execution_count": 45,
   "metadata": {
    "ExecuteTime": {
     "end_time": "2019-07-11T12:39:57.240985Z",
     "start_time": "2019-07-11T12:39:57.200035Z"
    }
   },
   "outputs": [],
   "source": [
    "# manual work: checked each entity and decided what its category was\n",
    "uniqueLabel_category['bitlaunder.com'] = 'Mixingservice'\n",
    "uniqueLabel_category['bitnz.com'] = 'Exchange'\n",
    "uniqueLabel_category['coinurl.com'] = 'Scam'\n",
    "uniqueLabel_category['btcpop.co'] = 'Exchange'\n",
    "uniqueLabel_category['gocelery.com'] = 'Exchange'\n",
    "uniqueLabel_category['strongcoin.com'] = 'Walletprovider'\n",
    "uniqueLabel_category['coinapult.com'] = 'Walletprovider'\n",
    "uniqueLabel_category['doctordmarket'] = 'Marketplace'\n",
    "uniqueLabel_category['paymium.com'] = 'Exchange'\n",
    "uniqueLabel_category['germanplazamarket'] = 'Walletprovider'\n",
    "uniqueLabel_category['greenroadmarket'] = 'Walletprovider'\n",
    "uniqueLabel_category['epay.info'] = 'Exchange'\n",
    "uniqueLabel_category['bitcoinwallet.com'] = 'Walletprovider'\n",
    "uniqueLabel_category['oklink.com'] = 'Exchange'\n",
    "uniqueLabel_category['helixmixer'] = 'Mixingservice'\n",
    "uniqueLabel_category['holytransaction.com'] = 'Walletprovider'\n",
    "uniqueLabel_category['coinkite.com'] = 'Walletprovider'\n",
    "uniqueLabel_category['alphabaymarket'] = 'Marketplace'\n",
    "uniqueLabel_category['nucleusmarket'] = 'Marketplace'\n",
    "uniqueLabel_category['bitcoinfog'] = 'Mixingservice'\n",
    "uniqueLabel_category['coinjar.com'] = 'Walletprovider'\n",
    "uniqueLabel_category['cryptopay.me'] = 'Walletprovider'\n",
    "uniqueLabel_category['coinpayments.net'] = 'Exchange'\n",
    "uniqueLabel_category['cubits.com'] = 'Exchange'\n",
    "uniqueLabel_category['cryptonator'] = 'Walletprovider'\n",
    "uniqueLabel_category['blueskymarketplace'] = 'Marketplace'\n",
    "uniqueLabel_category['blackbankmarket'] = 'Marketplace'\n",
    "uniqueLabel_category['sheepmarketplace'] = 'Marketplace'\n",
    "uniqueLabel_category['middleearthmarketplace'] = 'Marketplace'\n",
    "uniqueLabel_category['pandoraopenmarket'] = 'Marketplace'\n",
    "uniqueLabel_category['abraxasmarket'] = 'Marketplace'\n",
    "uniqueLabel_category['evolutionmarket'] = 'Marketplace'\n",
    "uniqueLabel_category['silkroad2market'] = 'Marketplace'\n",
    "uniqueLabel_category['silkroadmarketplace'] = 'Marketplace'\n",
    "uniqueLabel_category['agoramarket'] = 'Marketplace'\n",
    "uniqueLabel_category['inputs.io'] = 'Walletprovider'\n",
    "uniqueLabel_category['instawallet.org'] = 'Walletprovider'\n",
    "uniqueLabel_category['betcoins.net'] = 'Gambling'\n",
    "uniqueLabel_category['bitaces'] = 'Gambling'\n",
    "uniqueLabel_category['pinballcoin.com'] = 'Gambling'\n",
    "uniqueLabel_category['diceoncrack.com'] = 'Gambling'\n",
    "uniqueLabel_category['btcdice.com'] = 'Gambling'\n",
    "uniqueLabel_category['sealswithclubs.eu'] = 'Gambling'\n",
    "uniqueLabel_category['updown.bt'] = 'Gambling'\n",
    "uniqueLabel_category['betcoindice.tm'] = 'Gambling'\n",
    "uniqueLabel_category['bitcoin-24.com'] = 'Exchange'\n",
    "uniqueLabel_category['allcoin.com'] = 'Exchange'\n",
    "uniqueLabel_category['justcoin.com'] = 'Exchange'\n",
    "uniqueLabel_category['coin-swap.net'] = 'Exchange'\n",
    "uniqueLabel_category['mcxnow.com'] = 'Scam'\n",
    "uniqueLabel_category['mintpal.com'] = 'Scam'\n",
    "uniqueLabel_category['bitmillions.com'] = 'Gambling'\n",
    "uniqueLabel_category['mybitcoin.com'] = 'Walletprovider'\n",
    "uniqueLabel_category['bitmit.net'] = 'Service/Other'\n",
    "uniqueLabel_category['cannabisroadmarket'] = 'Marketplace'\n",
    "uniqueLabel_category['bitelfin.com'] = 'Gambling'\n",
    "uniqueLabel_category['bitcoin-roulette.com'] = 'Gambling'\n",
    "uniqueLabel_category['betcoins.net'] = 'Gambling'\n",
    "uniqueLabel_category['actioncrypto.com'] = 'Gambling'\n",
    "uniqueLabel_category['allcrypt.com'] = 'Exchange'\n",
    "uniqueLabel_category['bityes.com'] = 'Exchange'\n",
    "uniqueLabel_category['vaultofsatoshi.com'] = 'Exchange'\n",
    "uniqueLabel_category['crypto-trade.com'] = 'Exchange'\n",
    "uniqueLabel_category['coin.mx'] = 'Exchange'\n",
    "uniqueLabel_category['cryptorush.in'] = 'Exchange'\n",
    "uniqueLabel_category['dagensia.eu'] = 'Exchange'\n",
    "uniqueLabel_category['leancy.com'] = 'Scam'\n",
    "uniqueLabel_category['comkort.com'] = 'Exchange'\n",
    "uniqueLabel_category['dispenser.tf'] = 'Service/Other'\n",
    "uniqueLabel_category['playt.in'] = 'Service/Other'\n",
    "uniqueLabel_category['bitcoinica.com'] = 'Service/Other'\n",
    "uniqueLabel_category['coinvault'] = 'Walletprovider'\n",
    "uniqueLabel_category['masterxchange.com'] = 'Exchange'\n",
    "uniqueLabel_category['bitoomba.com'] = 'Scam'\n",
    "uniqueLabel_category['dicebitco.in'] = 'Gambling'\n",
    "uniqueLabel_category['ice-dice.com'] = 'Gambling'\n",
    "uniqueLabel_category['pocketrocketscasino.eu'] = 'Gambling'\n",
    "uniqueLabel_category['betsofbitco.in'] = 'Gambling'\n",
    "uniqueLabel_category['chainroll.com'] = 'Gambling'\n",
    "uniqueLabel_category['btcst.com-pirateat40'] = 'Scam'\n",
    "uniqueLabel_category['coinmkt.com'] = 'Exchange'\n",
    "uniqueLabel_category['minerscenter.com'] = 'Service/Other'\n",
    "uniqueLabel_category['coinhub.cz'] = 'Exchange'\n",
    "uniqueLabel_category['btceur.eu'] = 'Service/Other'\n",
    "uniqueLabel_category['smenarnabitcoin.cz'] = 'Exchange'\n",
    "uniqueLabel_category['brawker.com'] = 'Exchange'\n",
    "uniqueLabel_category['suzukidice.com'] = 'Gambling'\n",
    "uniqueLabel_category['everydice.com'] = 'Gambling'\n",
    "uniqueLabel_category['cryptobounty.com'] = 'Service/Other'\n",
    "uniqueLabel_category['europex.eu'] = 'Service/Other'\n",
    "uniqueLabel_category['birwo.com-old'] = 'Gambling'\n",
    "uniqueLabel_category['10xbitco.in'] = 'Scam'\n",
    "uniqueLabel_category['admiralcoin.com'] = 'Gambling'\n",
    "uniqueLabel_category['just-dice.com'] = 'Gambling'\n",
    "uniqueLabel_category['dadice.com'] = 'Gambling'\n",
    "uniqueLabel_category['mpex.co'] = 'Exchange'\n",
    "uniqueLabel_category['btcexchange.ro'] = 'Exchange'\n",
    "uniqueLabel_category['dgex.com'] = 'Exchange'\n",
    "uniqueLabel_category['btct.com'] = 'Exchange'\n",
    "uniqueLabel_category['babylonmarket'] = 'Marketplace'\n",
    "uniqueLabel_category['cryptomine.io'] = 'Service/Other'\n",
    "uniqueLabel_category['cryptcominer.com'] = 'Service/Other'\n",
    "uniqueLabel_category['bitcoinwebank.com'] = 'Service/Other'\n",
    "uniqueLabel_category['coin-sweeper.com'] = 'Service/Other'\n",
    "uniqueLabel_category['bitcash.cz'] = 'Service/Other'\n",
    "uniqueLabel_category['ponzicoin.co'] = 'Ponzi Scheme'\n"
   ]
  },
  {
   "cell_type": "code",
   "execution_count": 46,
   "metadata": {
    "ExecuteTime": {
     "end_time": "2019-07-11T12:39:57.461299Z",
     "start_time": "2019-07-11T12:39:57.456317Z"
    }
   },
   "outputs": [],
   "source": [
    "for ul in uniqueLabel_category:\n",
    "    if uniqueLabel_category[ul] == 'Services/others':\n",
    "        uniqueLabel_category[ul] = 'Service/Other'\n",
    "    elif uniqueLabel_category[ul] == 'Walletprovider':\n",
    "        uniqueLabel_category[ul] = 'Wallet Service'\n",
    "    elif uniqueLabel_category[ul] == 'Mixingservice':\n",
    "        uniqueLabel_category[ul] = 'Mixing Service'\n"
   ]
  },
  {
   "cell_type": "code",
   "execution_count": 47,
   "metadata": {
    "ExecuteTime": {
     "end_time": "2019-07-11T12:39:58.767683Z",
     "start_time": "2019-07-11T12:39:58.757022Z"
    }
   },
   "outputs": [
    {
     "data": {
      "text/plain": [
       "{'Exchange',\n",
       " 'Gambling',\n",
       " 'Hack',\n",
       " 'Marketplace',\n",
       " 'Miner',\n",
       " 'Mixing Service',\n",
       " 'Organization',\n",
       " 'Ponzi Scheme',\n",
       " 'Ransomware',\n",
       " 'Scam',\n",
       " 'Service/Other',\n",
       " 'Sextortion',\n",
       " 'Wallet Service'}"
      ]
     },
     "execution_count": 47,
     "metadata": {},
     "output_type": "execute_result"
    }
   ],
   "source": [
    "set(uniqueLabel_category.values())"
   ]
  },
  {
   "cell_type": "markdown",
   "metadata": {
    "ExecuteTime": {
     "end_time": "2019-07-11T12:42:43.448331Z",
     "start_time": "2019-07-11T12:42:43.441569Z"
    }
   },
   "source": [
    "# Step \\#3. Write files"
   ]
  },
  {
   "cell_type": "code",
   "execution_count": 48,
   "metadata": {
    "ExecuteTime": {
     "end_time": "2019-07-11T12:40:13.603950Z",
     "start_time": "2019-07-11T12:40:13.600106Z"
    }
   },
   "outputs": [],
   "source": [
    "with open('label_uniqueLabel.json', 'w') as fp:\n",
    "    json.dump(label_uniqueLabel, fp)"
   ]
  },
  {
   "cell_type": "code",
   "execution_count": 49,
   "metadata": {
    "ExecuteTime": {
     "end_time": "2019-07-11T12:40:14.095152Z",
     "start_time": "2019-07-11T12:40:14.088598Z"
    }
   },
   "outputs": [],
   "source": [
    "with open('uniqueLabel_category.json', 'w') as fp:\n",
    "    json.dump(uniqueLabel_category, fp)"
   ]
  },
  {
   "cell_type": "code",
   "execution_count": 50,
   "metadata": {
    "ExecuteTime": {
     "end_time": "2019-07-11T12:40:52.010894Z",
     "start_time": "2019-07-11T12:40:18.977015Z"
    }
   },
   "outputs": [
    {
     "name": "stdout",
     "output_type": "stream",
     "text": [
      "walletexplorer.yaml\n",
      "richest_addresses.yaml\n",
      "ransomware.yaml\n",
      "binance.yaml\n",
      "binance_hack.yaml\n",
      "sextortion_talos.yaml\n",
      "miners.yaml\n",
      "demo.yaml\n"
     ]
    }
   ],
   "source": [
    "# read each file\n",
    "# map label to unique label\n",
    "# use only correct categories\n",
    "\n",
    "for file in listdir(packs_folder):\n",
    "    if file != 'blockchaininfo.yaml':\n",
    "        print(file)\n",
    "        with open(packs_folder + file) as fp:\n",
    "            data = yaml.safe_load(fp)\n",
    "        for el in data['tags']:\n",
    "            # clean label\n",
    "            if 'label' in el:\n",
    "                unique_label = label_uniqueLabel[el['label'].lower()]\n",
    "                el['label'] = unique_label\n",
    "            else:\n",
    "                unique_label = data['label'].lower()\n",
    "            # clean category\n",
    "            if 'category' in el:\n",
    "                el['category'] = uniqueLabel_category[unique_label]\n",
    "        with open(packs_folder + file, 'w') as fp:\n",
    "            yaml.dump(data, fp, default_flow_style=False)"
   ]
  },
  {
   "cell_type": "code",
   "execution_count": 52,
   "metadata": {
    "ExecuteTime": {
     "end_time": "2019-07-11T12:44:44.258822Z",
     "start_time": "2019-07-11T12:44:44.249634Z"
    }
   },
   "outputs": [],
   "source": [
    "# update config.yaml\n",
    "config_path = '../config.yaml'\n",
    "with open(config_path) as fp:\n",
    "    config = yaml.safe_load(fp)"
   ]
  },
  {
   "cell_type": "code",
   "execution_count": 60,
   "metadata": {
    "ExecuteTime": {
     "end_time": "2019-07-11T12:45:40.379593Z",
     "start_time": "2019-07-11T12:45:40.376669Z"
    }
   },
   "outputs": [],
   "source": [
    "config['categories'] = list(set(uniqueLabel_category.values()))"
   ]
  },
  {
   "cell_type": "code",
   "execution_count": 62,
   "metadata": {
    "ExecuteTime": {
     "end_time": "2019-07-11T12:46:12.367085Z",
     "start_time": "2019-07-11T12:46:12.361770Z"
    }
   },
   "outputs": [],
   "source": [
    "with open(config_path, 'w') as fp:\n",
    "    yaml.dump(config, fp, default_flow_style=False)"
   ]
  }
 ],
 "metadata": {
  "kernelspec": {
   "display_name": "Python 3",
   "language": "python",
   "name": "python3"
  },
  "language_info": {
   "codemirror_mode": {
    "name": "ipython",
    "version": 3
   },
   "file_extension": ".py",
   "mimetype": "text/x-python",
   "name": "python",
   "nbconvert_exporter": "python",
   "pygments_lexer": "ipython3",
   "version": "3.6.8"
  }
 },
 "nbformat": 4,
 "nbformat_minor": 2
}
