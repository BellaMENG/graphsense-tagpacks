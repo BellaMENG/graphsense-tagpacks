{
 "cells": [
  {
   "cell_type": "markdown",
   "metadata": {},
   "source": [
    "# Purpose of this notebook\n",
    "We have `yaml` files retrieved from different sources and these files contain different names for the same entity. Ccategories need to be checked as well.\n",
    "\n",
    "This notebook creates a mapping from labels to unique labels (`label_uniqueLabel.json`) and a mapping from unique labels to the right categories (`uniqueLabel_category.json`).\n",
    "\n",
    "Every time a yaml file is created or added to the list, its labels must be mapped to unique labels and its categories to the right categories using these two `json` files.\n",
    "\n",
    "`config.yaml` is also updated with the new list of categories."
   ]
  },
  {
   "cell_type": "markdown",
   "metadata": {},
   "source": [
    "# Step \\#1. Create a file mapping entity label to its category (skip blockchain.info)"
   ]
  },
  {
   "cell_type": "code",
   "execution_count": 5,
   "metadata": {
    "ExecuteTime": {
     "end_time": "2019-07-11T12:21:13.507861Z",
     "start_time": "2019-07-11T12:21:13.505060Z"
    }
   },
   "outputs": [],
   "source": [
    "import yaml\n",
    "import json\n",
    "from os import listdir"
   ]
  },
  {
   "cell_type": "code",
   "execution_count": 63,
   "metadata": {
    "ExecuteTime": {
     "end_time": "2019-07-11T13:53:02.227886Z",
     "start_time": "2019-07-11T13:52:40.418092Z"
    }
   },
   "outputs": [
    {
     "name": "stdout",
     "output_type": "stream",
     "text": [
      "walletexplorer.yaml\n",
      "richest_addresses.yaml\n",
      "ransomware.yaml\n",
      "binance.yaml\n",
      "binance_hack.yaml\n",
      "sextortion_talos.yaml\n",
      "miners.yaml\n",
      "demo.yaml\n",
      "ponzi_scheme.yaml\n"
     ]
    }
   ],
   "source": [
    "# for each yaml file\n",
    "# get all the <label,category> pairs\n",
    "label_category = dict() # initial (dirty) label-category mapping\n",
    "packs_folder = '../packs/'\n",
    "for file in listdir(packs_folder):\n",
    "    if file != 'blockchaininfo.yaml': # there are no categories there\n",
    "        print(file)\n",
    "        with open(packs_folder + file) as fp:\n",
    "            data = yaml.safe_load(fp)\n",
    "        for el in data['tags']:\n",
    "            if 'category' in el and 'label' in el:\n",
    "                label_category[el['label'].lower()] = el['category']\n",
    "            elif 'category' not in el and 'label' in el:\n",
    "                label_category[el['label'].lower()] = data['category']\n",
    "            elif 'category' in el and 'label' not in el:\n",
    "                label_category[data['label'].lower()] = el['category']\n",
    "            elif 'category' in data and 'label' in data:\n",
    "                label_category[data['label'].lower()] = data['category']\n"
   ]
  },
  {
   "cell_type": "markdown",
   "metadata": {},
   "source": [
    "## Step #1a. Check uniqueness of labels\n"
   ]
  },
  {
   "cell_type": "code",
   "execution_count": 64,
   "metadata": {
    "ExecuteTime": {
     "end_time": "2019-07-11T13:53:08.432445Z",
     "start_time": "2019-07-11T13:53:08.427433Z"
    }
   },
   "outputs": [],
   "source": [
    "sorted_labels = [e.lower() for e in label_category.keys()]\n",
    "sorted_labels.sort()"
   ]
  },
  {
   "cell_type": "code",
   "execution_count": 67,
   "metadata": {
    "ExecuteTime": {
     "end_time": "2019-07-11T14:02:33.783042Z",
     "start_time": "2019-07-11T14:02:33.779206Z"
    }
   },
   "outputs": [],
   "source": [
    "# merge all labels with same root (these were manually selected by looking at all the (sorted) dirty labels above)\n",
    "labels_roots = ['cryptosplit', 'coindouble', '50btc', 'alphabaymarket', 'antpool', 'banx.io', 'betcoin.ag', 'bitaces', 'bitcoin-24.com', 'bitcoin.de', 'bitcoinica.com', 'bitcoinvideocasino.com', 'bitfinex', 'bitfury', 'bitminter', 'bitpay.com', 'bitstamp', 'bittrex', 'btc-e.com', 'btcc.com', 'btcjam.com', 'bter.com', 'btradeaustralia.com', 'c-cex.com', 'campbx.com', 'chainroll.com', 'cloudhashing', 'coinapult.com', 'coinroyale.com', 'cryptonator', 'cryptonit.net', 'cryptopay.me', 'cryptsy.com', 'deepbit', 'dgex.com', 'dmalocker', 'eclipsemc', 'eligius', 'foxbit.com.br', 'gatecoin.com', 'helixmixer', 'hitbtc.com', 'huobi.com', 'just-dice.com', 'kano', 'kncminer', 'kraken', 'localbitcoins.com', 'luckyb.it', 'okcoin.com', 'polmine', 'poloniex', 'primedice.com', 'satoshi-karoshi.com', 'satoshidice.com', 'securevpn.to', 'simplecoin.cz', 'slushpool', 'simplecoin', 'therocktrading.com', 'xapo', 'zyado.com']"
   ]
  },
  {
   "cell_type": "code",
   "execution_count": 69,
   "metadata": {
    "ExecuteTime": {
     "end_time": "2019-07-11T14:02:48.867899Z",
     "start_time": "2019-07-11T14:02:48.862117Z"
    }
   },
   "outputs": [],
   "source": [
    "# for l in sorted_labels:\n",
    "#     root_found = False\n",
    "#     for root in labels_roots:\n",
    "#         if l.startswith(root):\n",
    "#             root_found = True\n",
    "#             break\n",
    "#     if not root_found:\n",
    "#         print(l)"
   ]
  },
  {
   "cell_type": "markdown",
   "metadata": {},
   "source": [
    "## Step #1b. Create unique labels"
   ]
  },
  {
   "cell_type": "code",
   "execution_count": 70,
   "metadata": {
    "ExecuteTime": {
     "end_time": "2019-07-11T14:02:51.637878Z",
     "start_time": "2019-07-11T14:02:51.628985Z"
    }
   },
   "outputs": [],
   "source": [
    "# map each label to unique label\n",
    "label_uniqueLabel = dict() # map a label to a unique one\n",
    "# founded manually\n",
    "label_uniqueLabel['btccpool'] = 'btcc pool'\n",
    "label_uniqueLabel['btc guild'] = 'btcguild.com'\n",
    "label_uniqueLabel['globev2'] = 'globe'\n",
    "label_uniqueLabel['globev3'] = 'globe'\n",
    "label_uniqueLabel['telco214'] = 'telco 214'\n",
    "for label in sorted_labels: # all labels available, similars included\n",
    "    if label not in label_uniqueLabel:\n",
    "        root_found = False\n",
    "        for root in labels_roots: # look for a possible root\n",
    "            if label.startswith(root): # if found, use it and go to next label\n",
    "                label_uniqueLabel[label] = root\n",
    "                root_found = True\n",
    "                break\n",
    "        if not root_found:\n",
    "            label_uniqueLabel[label] = label"
   ]
  },
  {
   "cell_type": "code",
   "execution_count": 71,
   "metadata": {
    "ExecuteTime": {
     "end_time": "2019-07-11T14:02:52.614858Z",
     "start_time": "2019-07-11T14:02:52.612273Z"
    }
   },
   "outputs": [],
   "source": [
    "# create mapping unique_label to category\n",
    "uniqueLabel_category = dict()"
   ]
  },
  {
   "cell_type": "code",
   "execution_count": 72,
   "metadata": {
    "ExecuteTime": {
     "end_time": "2019-07-11T14:02:53.306085Z",
     "start_time": "2019-07-11T14:02:53.299922Z"
    }
   },
   "outputs": [],
   "source": [
    "# check if by using different versions of the same label, one entity is mapped into different categories\n",
    "# create a set of categories for each unique label, then check its len\n",
    "for label in label_category: # all labels, similars included\n",
    "    unique_label = label_uniqueLabel[label]\n",
    "    if unique_label not in uniqueLabel_category:\n",
    "        uniqueLabel_category[unique_label] = set()\n",
    "    uniqueLabel_category[unique_label].add(label_category[label])"
   ]
  },
  {
   "cell_type": "markdown",
   "metadata": {},
   "source": [
    "# Step \\#2. Manual entity check and cleaning"
   ]
  },
  {
   "cell_type": "code",
   "execution_count": 73,
   "metadata": {
    "ExecuteTime": {
     "end_time": "2019-07-11T14:02:55.101940Z",
     "start_time": "2019-07-11T14:02:55.091611Z"
    }
   },
   "outputs": [],
   "source": [
    "# check len of each set of categories for each unique label\n",
    "# in len == 1: use that category, else manual fix\n",
    "for unique_label in uniqueLabel_category:\n",
    "    if len(uniqueLabel_category[unique_label]) > 1:\n",
    "        print(uniqueLabel_category[unique_label], unique_label)\n",
    "    else:\n",
    "        uniqueLabel_category[unique_label] = list(uniqueLabel_category[unique_label])[0]"
   ]
  },
  {
   "cell_type": "code",
   "execution_count": 43,
   "metadata": {
    "ExecuteTime": {
     "end_time": "2019-07-11T12:39:53.485362Z",
     "start_time": "2019-07-11T12:39:53.480487Z"
    }
   },
   "outputs": [],
   "source": [
    "# # Manual labeling\n",
    "# uniqueLabel_category['cloudhashing'] = 'Miner'\n",
    "# uniqueLabel_category['btcguild.com'] = 'Miner'\n",
    "# uniqueLabel_category['polmine'] = 'Miner'\n",
    "# uniqueLabel_category['50btc'] = 'Miner'\n",
    "# uniqueLabel_category['deepbit'] = 'Miner'\n",
    "# uniqueLabel_category['xapo'] = 'Exchange'"
   ]
  },
  {
   "cell_type": "code",
   "execution_count": 74,
   "metadata": {
    "ExecuteTime": {
     "end_time": "2019-07-11T14:03:32.604264Z",
     "start_time": "2019-07-11T14:03:32.600522Z"
    },
    "scrolled": true
   },
   "outputs": [],
   "source": [
    "# # some entities fall into the \"old\" or \"other\" categories, but we want to know what they were doing \n",
    "# # so google each of them and understand what they actually are/were doing\n",
    "# for ul in uniqueLabel_category:\n",
    "#     if uniqueLabel_category[ul] == 'Old/historic':\n",
    "#         print(ul)"
   ]
  },
  {
   "cell_type": "code",
   "execution_count": 76,
   "metadata": {
    "ExecuteTime": {
     "end_time": "2019-07-11T14:03:49.649459Z",
     "start_time": "2019-07-11T14:03:49.623873Z"
    }
   },
   "outputs": [],
   "source": [
    "# manual work: checked each entity and decided what its category was\n",
    "uniqueLabel_category['bitlaunder.com'] = 'Mixingservice'\n",
    "uniqueLabel_category['bitnz.com'] = 'Exchange'\n",
    "uniqueLabel_category['coinurl.com'] = 'Scam'\n",
    "uniqueLabel_category['btcpop.co'] = 'Exchange'\n",
    "uniqueLabel_category['gocelery.com'] = 'Exchange'\n",
    "uniqueLabel_category['strongcoin.com'] = 'Walletprovider'\n",
    "uniqueLabel_category['coinapult.com'] = 'Walletprovider'\n",
    "uniqueLabel_category['doctordmarket'] = 'Marketplace'\n",
    "uniqueLabel_category['paymium.com'] = 'Exchange'\n",
    "uniqueLabel_category['germanplazamarket'] = 'Walletprovider'\n",
    "uniqueLabel_category['greenroadmarket'] = 'Walletprovider'\n",
    "uniqueLabel_category['epay.info'] = 'Exchange'\n",
    "uniqueLabel_category['bitcoinwallet.com'] = 'Walletprovider'\n",
    "uniqueLabel_category['oklink.com'] = 'Exchange'\n",
    "uniqueLabel_category['helixmixer'] = 'Mixingservice'\n",
    "uniqueLabel_category['holytransaction.com'] = 'Walletprovider'\n",
    "uniqueLabel_category['coinkite.com'] = 'Walletprovider'\n",
    "uniqueLabel_category['alphabaymarket'] = 'Marketplace'\n",
    "uniqueLabel_category['nucleusmarket'] = 'Marketplace'\n",
    "uniqueLabel_category['bitcoinfog'] = 'Mixingservice'\n",
    "uniqueLabel_category['coinjar.com'] = 'Walletprovider'\n",
    "uniqueLabel_category['cryptopay.me'] = 'Walletprovider'\n",
    "uniqueLabel_category['coinpayments.net'] = 'Exchange'\n",
    "uniqueLabel_category['cubits.com'] = 'Exchange'\n",
    "uniqueLabel_category['cryptonator'] = 'Walletprovider'\n",
    "uniqueLabel_category['blueskymarketplace'] = 'Marketplace'\n",
    "uniqueLabel_category['blackbankmarket'] = 'Marketplace'\n",
    "uniqueLabel_category['sheepmarketplace'] = 'Marketplace'\n",
    "uniqueLabel_category['middleearthmarketplace'] = 'Marketplace'\n",
    "uniqueLabel_category['pandoraopenmarket'] = 'Marketplace'\n",
    "uniqueLabel_category['abraxasmarket'] = 'Marketplace'\n",
    "uniqueLabel_category['evolutionmarket'] = 'Marketplace'\n",
    "uniqueLabel_category['silkroad2market'] = 'Marketplace'\n",
    "uniqueLabel_category['silkroadmarketplace'] = 'Marketplace'\n",
    "uniqueLabel_category['agoramarket'] = 'Marketplace'\n",
    "uniqueLabel_category['inputs.io'] = 'Walletprovider'\n",
    "uniqueLabel_category['instawallet.org'] = 'Walletprovider'\n",
    "uniqueLabel_category['betcoins.net'] = 'Gambling'\n",
    "uniqueLabel_category['bitaces'] = 'Gambling'\n",
    "uniqueLabel_category['pinballcoin.com'] = 'Gambling'\n",
    "uniqueLabel_category['diceoncrack.com'] = 'Gambling'\n",
    "uniqueLabel_category['btcdice.com'] = 'Gambling'\n",
    "uniqueLabel_category['sealswithclubs.eu'] = 'Gambling'\n",
    "uniqueLabel_category['updown.bt'] = 'Gambling'\n",
    "uniqueLabel_category['betcoindice.tm'] = 'Gambling'\n",
    "uniqueLabel_category['bitcoin-24.com'] = 'Exchange'\n",
    "uniqueLabel_category['allcoin.com'] = 'Exchange'\n",
    "uniqueLabel_category['justcoin.com'] = 'Exchange'\n",
    "uniqueLabel_category['coin-swap.net'] = 'Exchange'\n",
    "uniqueLabel_category['mcxnow.com'] = 'Scam'\n",
    "uniqueLabel_category['mintpal.com'] = 'Scam'\n",
    "uniqueLabel_category['bitmillions.com'] = 'Gambling'\n",
    "uniqueLabel_category['mybitcoin.com'] = 'Walletprovider'\n",
    "uniqueLabel_category['bitmit.net'] = 'Service/Other'\n",
    "uniqueLabel_category['cannabisroadmarket'] = 'Marketplace'\n",
    "uniqueLabel_category['bitelfin.com'] = 'Gambling'\n",
    "uniqueLabel_category['bitcoin-roulette.com'] = 'Gambling'\n",
    "uniqueLabel_category['betcoins.net'] = 'Gambling'\n",
    "uniqueLabel_category['actioncrypto.com'] = 'Gambling'\n",
    "uniqueLabel_category['allcrypt.com'] = 'Exchange'\n",
    "uniqueLabel_category['bityes.com'] = 'Exchange'\n",
    "uniqueLabel_category['vaultofsatoshi.com'] = 'Exchange'\n",
    "uniqueLabel_category['crypto-trade.com'] = 'Exchange'\n",
    "uniqueLabel_category['coin.mx'] = 'Exchange'\n",
    "uniqueLabel_category['cryptorush.in'] = 'Exchange'\n",
    "uniqueLabel_category['dagensia.eu'] = 'Exchange'\n",
    "uniqueLabel_category['leancy.com'] = 'Scam'\n",
    "uniqueLabel_category['comkort.com'] = 'Exchange'\n",
    "uniqueLabel_category['dispenser.tf'] = 'Service/Other'\n",
    "uniqueLabel_category['playt.in'] = 'Service/Other'\n",
    "uniqueLabel_category['bitcoinica.com'] = 'Service/Other'\n",
    "uniqueLabel_category['coinvault'] = 'Walletprovider'\n",
    "uniqueLabel_category['masterxchange.com'] = 'Exchange'\n",
    "uniqueLabel_category['bitoomba.com'] = 'Scam'\n",
    "uniqueLabel_category['dicebitco.in'] = 'Gambling'\n",
    "uniqueLabel_category['ice-dice.com'] = 'Gambling'\n",
    "uniqueLabel_category['pocketrocketscasino.eu'] = 'Gambling'\n",
    "uniqueLabel_category['betsofbitco.in'] = 'Gambling'\n",
    "uniqueLabel_category['chainroll.com'] = 'Gambling'\n",
    "uniqueLabel_category['btcst.com-pirateat40'] = 'Scam'\n",
    "uniqueLabel_category['coinmkt.com'] = 'Exchange'\n",
    "uniqueLabel_category['minerscenter.com'] = 'Service/Other'\n",
    "uniqueLabel_category['coinhub.cz'] = 'Exchange'\n",
    "uniqueLabel_category['btceur.eu'] = 'Service/Other'\n",
    "uniqueLabel_category['smenarnabitcoin.cz'] = 'Exchange'\n",
    "uniqueLabel_category['brawker.com'] = 'Exchange'\n",
    "uniqueLabel_category['suzukidice.com'] = 'Gambling'\n",
    "uniqueLabel_category['everydice.com'] = 'Gambling'\n",
    "uniqueLabel_category['cryptobounty.com'] = 'Service/Other'\n",
    "uniqueLabel_category['europex.eu'] = 'Service/Other'\n",
    "uniqueLabel_category['birwo.com-old'] = 'Gambling'\n",
    "uniqueLabel_category['10xbitco.in'] = 'Scam'\n",
    "uniqueLabel_category['admiralcoin.com'] = 'Gambling'\n",
    "uniqueLabel_category['just-dice.com'] = 'Gambling'\n",
    "uniqueLabel_category['dadice.com'] = 'Gambling'\n",
    "uniqueLabel_category['mpex.co'] = 'Exchange'\n",
    "uniqueLabel_category['btcexchange.ro'] = 'Exchange'\n",
    "uniqueLabel_category['dgex.com'] = 'Exchange'\n",
    "uniqueLabel_category['btct.com'] = 'Exchange'\n",
    "uniqueLabel_category['babylonmarket'] = 'Marketplace'\n",
    "uniqueLabel_category['cryptomine.io'] = 'Service/Other'\n",
    "uniqueLabel_category['cryptcominer.com'] = 'Service/Other'\n",
    "uniqueLabel_category['bitcoinwebank.com'] = 'Service/Other'\n",
    "uniqueLabel_category['coin-sweeper.com'] = 'Service/Other'\n",
    "uniqueLabel_category['bitcash.cz'] = 'Service/Other'\n",
    "uniqueLabel_category['ponzicoin.co'] = 'Ponzi Scheme'\n"
   ]
  },
  {
   "cell_type": "code",
   "execution_count": 77,
   "metadata": {
    "ExecuteTime": {
     "end_time": "2019-07-11T14:03:50.163627Z",
     "start_time": "2019-07-11T14:03:50.160307Z"
    }
   },
   "outputs": [],
   "source": [
    "for ul in uniqueLabel_category:\n",
    "    if uniqueLabel_category[ul] == 'Services/others':\n",
    "        uniqueLabel_category[ul] = 'Service/Other'\n",
    "    elif uniqueLabel_category[ul] == 'Walletprovider':\n",
    "        uniqueLabel_category[ul] = 'Wallet Service'\n",
    "    elif uniqueLabel_category[ul] == 'Mixingservice':\n",
    "        uniqueLabel_category[ul] = 'Mixing Service'\n"
   ]
  },
  {
   "cell_type": "code",
   "execution_count": 78,
   "metadata": {
    "ExecuteTime": {
     "end_time": "2019-07-11T14:03:51.503381Z",
     "start_time": "2019-07-11T14:03:51.497254Z"
    }
   },
   "outputs": [
    {
     "data": {
      "text/plain": [
       "{'Exchange',\n",
       " 'Gambling',\n",
       " 'Hack',\n",
       " 'Marketplace',\n",
       " 'Miner',\n",
       " 'Mixing Service',\n",
       " 'Organization',\n",
       " 'Ponzi Scheme',\n",
       " 'Ransomware',\n",
       " 'Scam',\n",
       " 'Service/Other',\n",
       " 'Sextortion',\n",
       " 'Wallet Service'}"
      ]
     },
     "execution_count": 78,
     "metadata": {},
     "output_type": "execute_result"
    }
   ],
   "source": [
    "set(uniqueLabel_category.values())"
   ]
  },
  {
   "cell_type": "markdown",
   "metadata": {
    "ExecuteTime": {
     "end_time": "2019-07-11T12:42:43.448331Z",
     "start_time": "2019-07-11T12:42:43.441569Z"
    }
   },
   "source": [
    "# Step \\#3. Write files"
   ]
  },
  {
   "cell_type": "code",
   "execution_count": 79,
   "metadata": {
    "ExecuteTime": {
     "end_time": "2019-07-11T14:03:54.973802Z",
     "start_time": "2019-07-11T14:03:54.964009Z"
    }
   },
   "outputs": [],
   "source": [
    "with open('label_uniqueLabel.json', 'w') as fp:\n",
    "    json.dump(label_uniqueLabel, fp)"
   ]
  },
  {
   "cell_type": "code",
   "execution_count": 80,
   "metadata": {
    "ExecuteTime": {
     "end_time": "2019-07-11T14:03:55.501604Z",
     "start_time": "2019-07-11T14:03:55.497993Z"
    }
   },
   "outputs": [],
   "source": [
    "with open('uniqueLabel_category.json', 'w') as fp:\n",
    "    json.dump(uniqueLabel_category, fp)"
   ]
  },
  {
   "cell_type": "code",
   "execution_count": 81,
   "metadata": {
    "ExecuteTime": {
     "end_time": "2019-07-11T14:04:31.125793Z",
     "start_time": "2019-07-11T14:03:58.290735Z"
    }
   },
   "outputs": [
    {
     "name": "stdout",
     "output_type": "stream",
     "text": [
      "walletexplorer.yaml\n",
      "richest_addresses.yaml\n",
      "ransomware.yaml\n",
      "binance.yaml\n",
      "binance_hack.yaml\n",
      "sextortion_talos.yaml\n",
      "miners.yaml\n",
      "demo.yaml\n",
      "ponzi_scheme.yaml\n"
     ]
    }
   ],
   "source": [
    "# read each file\n",
    "# map label to unique label\n",
    "# use only correct categories\n",
    "\n",
    "for file in listdir(packs_folder):\n",
    "    if file != 'blockchaininfo.yaml':\n",
    "        print(file)\n",
    "        with open(packs_folder + file) as fp:\n",
    "            data = yaml.safe_load(fp)\n",
    "        for el in data['tags']:\n",
    "            # clean label\n",
    "            if 'label' in el:\n",
    "                unique_label = label_uniqueLabel[el['label'].lower()]\n",
    "                el['label'] = unique_label\n",
    "            else:\n",
    "                unique_label = data['label'].lower()\n",
    "            # clean category\n",
    "            if 'category' in el:\n",
    "                el['category'] = uniqueLabel_category[unique_label]\n",
    "        with open(packs_folder + file, 'w') as fp:\n",
    "            yaml.dump(data, fp, default_flow_style=False)"
   ]
  },
  {
   "cell_type": "code",
   "execution_count": 82,
   "metadata": {
    "ExecuteTime": {
     "end_time": "2019-07-11T14:04:31.133025Z",
     "start_time": "2019-07-11T14:04:31.127885Z"
    }
   },
   "outputs": [],
   "source": [
    "# update config.yaml\n",
    "config_path = '../config.yaml'\n",
    "with open(config_path) as fp:\n",
    "    config = yaml.safe_load(fp)"
   ]
  },
  {
   "cell_type": "code",
   "execution_count": 83,
   "metadata": {
    "ExecuteTime": {
     "end_time": "2019-07-11T14:04:31.138658Z",
     "start_time": "2019-07-11T14:04:31.134768Z"
    }
   },
   "outputs": [],
   "source": [
    "config['categories'] = list(set(uniqueLabel_category.values()))"
   ]
  },
  {
   "cell_type": "code",
   "execution_count": 84,
   "metadata": {
    "ExecuteTime": {
     "end_time": "2019-07-11T14:04:31.144393Z",
     "start_time": "2019-07-11T14:04:31.140493Z"
    }
   },
   "outputs": [],
   "source": [
    "with open(config_path, 'w') as fp:\n",
    "    yaml.dump(config, fp, default_flow_style=False)"
   ]
  }
 ],
 "metadata": {
  "kernelspec": {
   "display_name": "Python 3",
   "language": "python",
   "name": "python3"
  },
  "language_info": {
   "codemirror_mode": {
    "name": "ipython",
    "version": 3
   },
   "file_extension": ".py",
   "mimetype": "text/x-python",
   "name": "python",
   "nbconvert_exporter": "python",
   "pygments_lexer": "ipython3",
   "version": "3.6.8"
  }
 },
 "nbformat": 4,
 "nbformat_minor": 2
}
